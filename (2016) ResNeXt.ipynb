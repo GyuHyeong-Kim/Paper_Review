{
 "cells": [
  {
   "cell_type": "code",
   "execution_count": 1,
   "id": "0ac9f70e-9d9f-47ca-ae82-61beb01ac11a",
   "metadata": {},
   "outputs": [],
   "source": [
    "import torch\n",
    "import torch.nn as nn"
   ]
  },
  {
   "cell_type": "code",
   "execution_count": 3,
   "id": "88c9f63b-1117-470b-b2d5-d1902a639c76",
   "metadata": {},
   "outputs": [],
   "source": [
    "class Bottleneck(nn.Module):\n",
    "    expansion = 2\n",
    "    def __init__(self, in_channels, inner_channels, cardinality, stride = 1, projection = None):\n",
    "        super().__init__()\n",
    "\n",
    "        self.residual = nn.Sequential(nn.Conv2d(in_channels, inner_channels, 1, bias=False),\n",
    "                                      nn.BatchNorm2d(inner_channels),\n",
    "                                      nn.ReLU(inplace=True),\n",
    "                                      nn.Conv2d(inner_channels, inner_channels, 3, stride=stride, padding=1, groups = cardinality, bias=False),\n",
    "                                      nn.BatchNorm2d(inner_channels),\n",
    "                                      nn.ReLU(inplace=True),\n",
    "                                      nn.Conv2d(inner_channels, inner_channels * self.expansion, 1, bias=False),\n",
    "                                      nn.BatchNorm2d(inner_channels * self.expansion))\n",
    "        self.projection = projection\n",
    "        self.relu = nn.ReLU(inplace=True)\n",
    "\n",
    "    def forward(self, x):\n",
    "\n",
    "        residual = self.residual(x)\n",
    "\n",
    "        if self.projection is not None:\n",
    "            shortcut = self.projection(x)\n",
    "        else:\n",
    "            shortcut = x\n",
    "\n",
    "        out = self.relu(residual + shortcut)\n",
    "        return out\n",
    "\n",
    "class ResNeXt(nn.Module):\n",
    "    def __init__(self, block, num_block_list, cardinality, num_classes = 1000, zero_init_residual = True):\n",
    "        super().__init__()\n",
    "\n",
    "        self.in_channels = 64\n",
    "        self.cardinality = cardinality\n",
    "\n",
    "        self.conv1 = nn.Conv2d(3, 64, kernel_size=7, stride=2, padding=3, bias=False)\n",
    "        self.bn1 = nn.BatchNorm2d(64)\n",
    "        self.relu = nn.ReLU(inplace=True)\n",
    "        self.maxpool = nn.MaxPool2d(kernel_size=3, stride=2, padding=1)\n",
    "        self.stage1 = self.make_stage(block, 128, num_block_list[0], stride=1)\n",
    "        self.stage2 = self.make_stage(block, 256, num_block_list[1], stride=2)\n",
    "        self.stage3 = self.make_stage(block, 512, num_block_list[2], stride=2)\n",
    "        self.stage4 = self.make_stage(block, 1024, num_block_list[3], stride=2)\n",
    "        self.avgpool = nn.AdaptiveAvgPool2d((1, 1))\n",
    "        self.fc = nn.Linear(1024 * block.expansion, num_classes)\n",
    "\n",
    "        for m in self.modules():\n",
    "            if isinstance(m, nn.Conv2d):\n",
    "                nn.init.kaiming_normal_(m.weight, mode=\"fan_out\", nonlinearity=\"relu\")\n",
    "\n",
    "        # Zero-initialize the last BN in each residual branch,\n",
    "        # so that the residual branch starts with zeros, and each residual block behaves like an identity.\n",
    "        # This improves the model by 0.2~0.3% according to https://arxiv.org/abs/1706.02677\n",
    "        if zero_init_residual:\n",
    "            for m in self.modules():\n",
    "                if isinstance(m, block):\n",
    "                    nn.init.constant_(m.residual[-1].weight, 0)\n",
    "\n",
    "    def make_stage(self, block, inner_channels, num_blocks, stride = 1):\n",
    "\n",
    "        if stride != 1 or self.in_channels != inner_channels * block.expansion:\n",
    "            projection = nn.Sequential(\n",
    "                nn.Conv2d(self.in_channels, inner_channels * block.expansion, 1, stride=stride, bias=False),\n",
    "                nn.BatchNorm2d(inner_channels * block.expansion))\n",
    "        else:\n",
    "            projection = None\n",
    "\n",
    "        layers = []\n",
    "        layers += [block(self.in_channels, inner_channels, self.cardinality, stride, projection)]\n",
    "        self.in_channels = inner_channels * block.expansion\n",
    "        for _ in range(1, num_blocks):\n",
    "            layers += [block(self.in_channels, inner_channels, self.cardinality)]\n",
    "\n",
    "        return nn.Sequential(*layers)\n",
    "\n",
    "    def forward(self, x):\n",
    "        x = self.conv1(x)\n",
    "        x = self.bn1(x)\n",
    "        x = self.relu(x)\n",
    "        x = self.maxpool(x)\n",
    "\n",
    "        x = self.stage1(x)\n",
    "        x = self.stage2(x)\n",
    "        x = self.stage3(x)\n",
    "        x = self.stage4(x)\n",
    "\n",
    "        x = self.avgpool(x)\n",
    "        x = torch.flatten(x, 1)\n",
    "        x = self.fc(x)\n",
    "        return x"
   ]
  },
  {
   "cell_type": "code",
   "execution_count": 5,
   "id": "63e1e15d-16dd-414c-82f3-c584436f1489",
   "metadata": {},
   "outputs": [],
   "source": [
    "def resnext50(**kwargs):\n",
    "    return ResNeXt(Bottleneck, [3, 4, 6, 3], cardinality=32, **kwargs)\n",
    "\n",
    "def resnext101(**kwargs):\n",
    "    return ResNeXt(Bottleneck, [3, 4, 23, 3], cardinality=32, **kwargs)"
   ]
  },
  {
   "cell_type": "code",
   "execution_count": 7,
   "id": "6707e3d2-107e-4f8c-a31c-bb42bb875494",
   "metadata": {},
   "outputs": [
    {
     "data": {
      "text/plain": [
       "==========================================================================================\n",
       "Layer (type:depth-idx)                   Output Shape              Param #\n",
       "==========================================================================================\n",
       "ResNeXt                                  [2, 1000]                 --\n",
       "├─Conv2d: 1-1                            [2, 64, 112, 112]         9,408\n",
       "├─BatchNorm2d: 1-2                       [2, 64, 112, 112]         128\n",
       "├─ReLU: 1-3                              [2, 64, 112, 112]         --\n",
       "├─MaxPool2d: 1-4                         [2, 64, 56, 56]           --\n",
       "├─Sequential: 1-5                        [2, 256, 56, 56]          --\n",
       "│    └─Bottleneck: 2-1                   [2, 256, 56, 56]          --\n",
       "│    │    └─Sequential: 3-1              [2, 256, 56, 56]          46,592\n",
       "│    │    └─Sequential: 3-2              [2, 256, 56, 56]          16,896\n",
       "│    │    └─ReLU: 3-3                    [2, 256, 56, 56]          --\n",
       "│    └─Bottleneck: 2-2                   [2, 256, 56, 56]          --\n",
       "│    │    └─Sequential: 3-4              [2, 256, 56, 56]          71,168\n",
       "│    │    └─ReLU: 3-5                    [2, 256, 56, 56]          --\n",
       "│    └─Bottleneck: 2-3                   [2, 256, 56, 56]          --\n",
       "│    │    └─Sequential: 3-6              [2, 256, 56, 56]          71,168\n",
       "│    │    └─ReLU: 3-7                    [2, 256, 56, 56]          --\n",
       "├─Sequential: 1-6                        [2, 512, 28, 28]          --\n",
       "│    └─Bottleneck: 2-4                   [2, 512, 28, 28]          --\n",
       "│    │    └─Sequential: 3-8              [2, 512, 28, 28]          217,088\n",
       "│    │    └─Sequential: 3-9              [2, 512, 28, 28]          132,096\n",
       "│    │    └─ReLU: 3-10                   [2, 512, 28, 28]          --\n",
       "│    └─Bottleneck: 2-5                   [2, 512, 28, 28]          --\n",
       "│    │    └─Sequential: 3-11             [2, 512, 28, 28]          282,624\n",
       "│    │    └─ReLU: 3-12                   [2, 512, 28, 28]          --\n",
       "│    └─Bottleneck: 2-6                   [2, 512, 28, 28]          --\n",
       "│    │    └─Sequential: 3-13             [2, 512, 28, 28]          282,624\n",
       "│    │    └─ReLU: 3-14                   [2, 512, 28, 28]          --\n",
       "│    └─Bottleneck: 2-7                   [2, 512, 28, 28]          --\n",
       "│    │    └─Sequential: 3-15             [2, 512, 28, 28]          282,624\n",
       "│    │    └─ReLU: 3-16                   [2, 512, 28, 28]          --\n",
       "├─Sequential: 1-7                        [2, 1024, 14, 14]         --\n",
       "│    └─Bottleneck: 2-8                   [2, 1024, 14, 14]         --\n",
       "│    │    └─Sequential: 3-17             [2, 1024, 14, 14]         864,256\n",
       "│    │    └─Sequential: 3-18             [2, 1024, 14, 14]         526,336\n",
       "│    │    └─ReLU: 3-19                   [2, 1024, 14, 14]         --\n",
       "│    └─Bottleneck: 2-9                   [2, 1024, 14, 14]         --\n",
       "│    │    └─Sequential: 3-20             [2, 1024, 14, 14]         1,126,400\n",
       "│    │    └─ReLU: 3-21                   [2, 1024, 14, 14]         --\n",
       "│    └─Bottleneck: 2-10                  [2, 1024, 14, 14]         --\n",
       "│    │    └─Sequential: 3-22             [2, 1024, 14, 14]         1,126,400\n",
       "│    │    └─ReLU: 3-23                   [2, 1024, 14, 14]         --\n",
       "│    └─Bottleneck: 2-11                  [2, 1024, 14, 14]         --\n",
       "│    │    └─Sequential: 3-24             [2, 1024, 14, 14]         1,126,400\n",
       "│    │    └─ReLU: 3-25                   [2, 1024, 14, 14]         --\n",
       "│    └─Bottleneck: 2-12                  [2, 1024, 14, 14]         --\n",
       "│    │    └─Sequential: 3-26             [2, 1024, 14, 14]         1,126,400\n",
       "│    │    └─ReLU: 3-27                   [2, 1024, 14, 14]         --\n",
       "│    └─Bottleneck: 2-13                  [2, 1024, 14, 14]         --\n",
       "│    │    └─Sequential: 3-28             [2, 1024, 14, 14]         1,126,400\n",
       "│    │    └─ReLU: 3-29                   [2, 1024, 14, 14]         --\n",
       "├─Sequential: 1-8                        [2, 2048, 7, 7]           --\n",
       "│    └─Bottleneck: 2-14                  [2, 2048, 7, 7]           --\n",
       "│    │    └─Sequential: 3-30             [2, 2048, 7, 7]           3,448,832\n",
       "│    │    └─Sequential: 3-31             [2, 2048, 7, 7]           2,101,248\n",
       "│    │    └─ReLU: 3-32                   [2, 2048, 7, 7]           --\n",
       "│    └─Bottleneck: 2-15                  [2, 2048, 7, 7]           --\n",
       "│    │    └─Sequential: 3-33             [2, 2048, 7, 7]           4,497,408\n",
       "│    │    └─ReLU: 3-34                   [2, 2048, 7, 7]           --\n",
       "│    └─Bottleneck: 2-16                  [2, 2048, 7, 7]           --\n",
       "│    │    └─Sequential: 3-35             [2, 2048, 7, 7]           4,497,408\n",
       "│    │    └─ReLU: 3-36                   [2, 2048, 7, 7]           --\n",
       "├─AdaptiveAvgPool2d: 1-9                 [2, 2048, 1, 1]           --\n",
       "├─Linear: 1-10                           [2, 1000]                 2,049,000\n",
       "==========================================================================================\n",
       "Total params: 25,028,904\n",
       "Trainable params: 25,028,904\n",
       "Non-trainable params: 0\n",
       "Total mult-adds (Units.GIGABYTES): 8.46\n",
       "==========================================================================================\n",
       "Input size (MB): 1.20\n",
       "Forward/backward pass size (MB): 460.83\n",
       "Params size (MB): 100.12\n",
       "Estimated Total Size (MB): 562.15\n",
       "=========================================================================================="
      ]
     },
     "execution_count": 7,
     "metadata": {},
     "output_type": "execute_result"
    }
   ],
   "source": [
    "model = resnext50()\n",
    "\n",
    "from torchinfo import summary\n",
    "summary(model, input_size=(2,3,224,224), device='cpu')"
   ]
  },
  {
   "cell_type": "code",
   "execution_count": 9,
   "id": "d58ed378-7157-4dc3-b494-a0b9e34c4528",
   "metadata": {},
   "outputs": [
    {
     "name": "stdout",
     "output_type": "stream",
     "text": [
      "torch.Size([2, 1000])\n"
     ]
    }
   ],
   "source": [
    "x = torch.randn(2,3,224,224)\n",
    "print(model(x).shape)"
   ]
  },
  {
   "cell_type": "markdown",
   "id": "d9832b09-d764-45ac-ac06-e8e085730b7a",
   "metadata": {},
   "source": [
    "## Grouped convolution"
   ]
  },
  {
   "cell_type": "code",
   "execution_count": 12,
   "id": "156cf34b-fbe0-4256-b65b-eb7b576d2a55",
   "metadata": {},
   "outputs": [
    {
     "name": "stdout",
     "output_type": "stream",
     "text": [
      "torch.Size([256, 128, 3, 3])\n",
      "torch.Size([256, 4, 3, 3])\n"
     ]
    }
   ],
   "source": [
    "print(nn.Conv2d(128, 256, 3, groups=1).weight.shape)\n",
    "print(nn.Conv2d(128, 256, 3, groups=32).weight.shape)"
   ]
  },
  {
   "cell_type": "code",
   "execution_count": 16,
   "id": "edc4c2d9-7459-4366-99a5-6ab910e06b5d",
   "metadata": {},
   "outputs": [
    {
     "ename": "ValueError",
     "evalue": "out_channels must be divisible by groups",
     "output_type": "error",
     "traceback": [
      "\u001b[1;31m---------------------------------------------------------------------------\u001b[0m",
      "\u001b[1;31mValueError\u001b[0m                                Traceback (most recent call last)",
      "Cell \u001b[1;32mIn[16], line 1\u001b[0m\n\u001b[1;32m----> 1\u001b[0m \u001b[38;5;28mprint\u001b[39m(nn\u001b[38;5;241m.\u001b[39mConv2d(\u001b[38;5;241m128\u001b[39m, \u001b[38;5;241m50\u001b[39m, \u001b[38;5;241m3\u001b[39m, groups\u001b[38;5;241m=\u001b[39m\u001b[38;5;241m32\u001b[39m)\u001b[38;5;241m.\u001b[39mweight\u001b[38;5;241m.\u001b[39mshape)\n",
      "File \u001b[1;32m~\\anaconda3\\Lib\\site-packages\\torch\\nn\\modules\\conv.py:521\u001b[0m, in \u001b[0;36mConv2d.__init__\u001b[1;34m(self, in_channels, out_channels, kernel_size, stride, padding, dilation, groups, bias, padding_mode, device, dtype)\u001b[0m\n\u001b[0;32m    519\u001b[0m padding_ \u001b[38;5;241m=\u001b[39m padding \u001b[38;5;28;01mif\u001b[39;00m \u001b[38;5;28misinstance\u001b[39m(padding, \u001b[38;5;28mstr\u001b[39m) \u001b[38;5;28;01melse\u001b[39;00m _pair(padding)\n\u001b[0;32m    520\u001b[0m dilation_ \u001b[38;5;241m=\u001b[39m _pair(dilation)\n\u001b[1;32m--> 521\u001b[0m \u001b[38;5;28msuper\u001b[39m()\u001b[38;5;241m.\u001b[39m\u001b[38;5;21m__init__\u001b[39m(\n\u001b[0;32m    522\u001b[0m     in_channels,\n\u001b[0;32m    523\u001b[0m     out_channels,\n\u001b[0;32m    524\u001b[0m     kernel_size_,\n\u001b[0;32m    525\u001b[0m     stride_,\n\u001b[0;32m    526\u001b[0m     padding_,\n\u001b[0;32m    527\u001b[0m     dilation_,\n\u001b[0;32m    528\u001b[0m     \u001b[38;5;28;01mFalse\u001b[39;00m,\n\u001b[0;32m    529\u001b[0m     _pair(\u001b[38;5;241m0\u001b[39m),\n\u001b[0;32m    530\u001b[0m     groups,\n\u001b[0;32m    531\u001b[0m     bias,\n\u001b[0;32m    532\u001b[0m     padding_mode,\n\u001b[0;32m    533\u001b[0m     \u001b[38;5;241m*\u001b[39m\u001b[38;5;241m*\u001b[39mfactory_kwargs,\n\u001b[0;32m    534\u001b[0m )\n",
      "File \u001b[1;32m~\\anaconda3\\Lib\\site-packages\\torch\\nn\\modules\\conv.py:109\u001b[0m, in \u001b[0;36m_ConvNd.__init__\u001b[1;34m(self, in_channels, out_channels, kernel_size, stride, padding, dilation, transposed, output_padding, groups, bias, padding_mode, device, dtype)\u001b[0m\n\u001b[0;32m    107\u001b[0m     \u001b[38;5;28;01mraise\u001b[39;00m \u001b[38;5;167;01mValueError\u001b[39;00m(\u001b[38;5;124m\"\u001b[39m\u001b[38;5;124min_channels must be divisible by groups\u001b[39m\u001b[38;5;124m\"\u001b[39m)\n\u001b[0;32m    108\u001b[0m \u001b[38;5;28;01mif\u001b[39;00m out_channels \u001b[38;5;241m%\u001b[39m groups \u001b[38;5;241m!=\u001b[39m \u001b[38;5;241m0\u001b[39m:\n\u001b[1;32m--> 109\u001b[0m     \u001b[38;5;28;01mraise\u001b[39;00m \u001b[38;5;167;01mValueError\u001b[39;00m(\u001b[38;5;124m\"\u001b[39m\u001b[38;5;124mout_channels must be divisible by groups\u001b[39m\u001b[38;5;124m\"\u001b[39m)\n\u001b[0;32m    110\u001b[0m valid_padding_strings \u001b[38;5;241m=\u001b[39m {\u001b[38;5;124m\"\u001b[39m\u001b[38;5;124msame\u001b[39m\u001b[38;5;124m\"\u001b[39m, \u001b[38;5;124m\"\u001b[39m\u001b[38;5;124mvalid\u001b[39m\u001b[38;5;124m\"\u001b[39m}\n\u001b[0;32m    111\u001b[0m \u001b[38;5;28;01mif\u001b[39;00m \u001b[38;5;28misinstance\u001b[39m(padding, \u001b[38;5;28mstr\u001b[39m):\n",
      "\u001b[1;31mValueError\u001b[0m: out_channels must be divisible by groups"
     ]
    }
   ],
   "source": [
    "print(nn.Conv2d(128, 50, 3, groups=32).weight.shape)"
   ]
  }
 ],
 "metadata": {
  "kernelspec": {
   "display_name": "Python 3 (ipykernel)",
   "language": "python",
   "name": "python3"
  },
  "language_info": {
   "codemirror_mode": {
    "name": "ipython",
    "version": 3
   },
   "file_extension": ".py",
   "mimetype": "text/x-python",
   "name": "python",
   "nbconvert_exporter": "python",
   "pygments_lexer": "ipython3",
   "version": "3.12.7"
  }
 },
 "nbformat": 4,
 "nbformat_minor": 5
}
