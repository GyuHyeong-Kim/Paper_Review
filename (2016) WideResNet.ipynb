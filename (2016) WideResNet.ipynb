{
 "cells": [
  {
   "cell_type": "code",
   "execution_count": 1,
   "id": "cf01e92d-179a-482d-897c-4faffbc15193",
   "metadata": {},
   "outputs": [],
   "source": [
    "import torch\n",
    "import torch.nn as nn"
   ]
  },
  {
   "cell_type": "code",
   "execution_count": 3,
   "id": "6a7569b9-eefb-4d57-841f-a0574840b9a4",
   "metadata": {},
   "outputs": [],
   "source": [
    "class WiderBlock(nn.Module):\n",
    "    def __init__(self, in_channels, out_channels, stride=1, projection=None, drop_p=0.3):\n",
    "        # drop_p = 0.3 for CIFAR, 0.4 for SVHN\n",
    "        super().__init__()\n",
    "\n",
    "        self.residual = nn.Sequential(nn.BatchNorm2d(in_channels),\n",
    "                                      nn.ReLU(inplace=True),\n",
    "                                      nn.Conv2d(in_channels, out_channels, 3, stride=stride, padding=1, bias = False),\n",
    "                                      nn.BatchNorm2d(out_channels),\n",
    "                                      nn.ReLU(inplace=True),\n",
    "                                      nn.Dropout(drop_p),\n",
    "                                      nn.Conv2d(out_channels, out_channels, 3, padding=1, bias = False))\n",
    "\n",
    "        self.projection = projection\n",
    "\n",
    "    def forward(self, x):\n",
    "        residual = self.residual(x)\n",
    "\n",
    "        if self.projection is not None:\n",
    "            shortcut = self.projection(x)\n",
    "        else:\n",
    "            shortcut = x\n",
    "\n",
    "        out = residual + shortcut\n",
    "        return out\n",
    "\n",
    "class WRN(nn.Module):\n",
    "    def __init__(self, depth, k, num_classes=1000, init_weights=True):\n",
    "        super().__init__()\n",
    "        N = int((depth-4)/3/2)\n",
    "\n",
    "        self.in_channels = 16\n",
    "\n",
    "        self.conv1 = nn.Conv2d(3, 16, 3, padding=1, bias = False)\n",
    "        self.stage1 = self.make_stage(16*k, N, stride = 1)\n",
    "        self.stage2 = self.make_stage(32*k, N, stride = 2)\n",
    "        self.stage3 = self.make_stage(64*k, N, stride = 2)\n",
    "        self.bn = nn.BatchNorm2d(64*k)\n",
    "        self.relu = nn.ReLU(inplace=True)\n",
    "        self.avg_pool = nn.AdaptiveAvgPool2d((1,1))\n",
    "        self.fc = nn.Linear(64*k, num_classes)\n",
    "\n",
    "        # weight initialization\n",
    "        if init_weights:\n",
    "            for m in self.modules():\n",
    "                if isinstance(m, nn.Conv2d):\n",
    "                    nn.init.kaiming_normal_(m.weight, mode='fan_out', nonlinearity='relu')\n",
    "                    if m.bias is not None:\n",
    "                        nn.init.constant_(m.bias, 0)\n",
    "                elif isinstance(m, nn.Linear):\n",
    "                    nn.init.normal_(m.weight, 0, 0.01)\n",
    "                    nn.init.constant_(m.bias, 0)\n",
    "\n",
    "    def forward(self, x):\n",
    "        x = self.conv1(x)\n",
    "        x = self.stage1(x)\n",
    "        x = self.stage2(x)\n",
    "        x = self.stage3(x)\n",
    "        x = self.bn(x)\n",
    "        x = self.relu(x)\n",
    "        x = self.avg_pool(x)\n",
    "        x = torch.flatten(x, start_dim=1)\n",
    "        x = self.fc(x)\n",
    "        return x\n",
    "\n",
    "    def make_stage(self, out_channels, num_blocks, stride):\n",
    "\n",
    "        if stride != 1 or self.in_channels != out_channels:\n",
    "            projection = nn.Conv2d(self.in_channels, out_channels, 1, stride=stride, bias = False)\n",
    "        else:\n",
    "            projection = None\n",
    "\n",
    "        layers = []\n",
    "        layers += [WiderBlock(self.in_channels, out_channels, stride, projection)]\n",
    "        self.in_channels = out_channels\n",
    "        for _ in range(1, num_blocks):\n",
    "            layers += [WiderBlock(self.in_channels, out_channels)]\n",
    "\n",
    "        return nn.Sequential(*layers)"
   ]
  },
  {
   "cell_type": "code",
   "execution_count": 5,
   "id": "570f9731-85f3-4a6a-a9f8-3a4c4db1b684",
   "metadata": {},
   "outputs": [
    {
     "data": {
      "text/plain": [
       "==========================================================================================\n",
       "Layer (type:depth-idx)                   Output Shape              Param #\n",
       "==========================================================================================\n",
       "WRN                                      [2, 10]                   --\n",
       "├─Conv2d: 1-1                            [2, 16, 224, 224]         432\n",
       "├─Sequential: 1-2                        [2, 160, 224, 224]        --\n",
       "│    └─WiderBlock: 2-1                   [2, 160, 224, 224]        --\n",
       "│    │    └─Sequential: 3-1              [2, 160, 224, 224]        253,792\n",
       "│    │    └─Conv2d: 3-2                  [2, 160, 224, 224]        2,560\n",
       "│    └─WiderBlock: 2-2                   [2, 160, 224, 224]        --\n",
       "│    │    └─Sequential: 3-3              [2, 160, 224, 224]        461,440\n",
       "│    └─WiderBlock: 2-3                   [2, 160, 224, 224]        --\n",
       "│    │    └─Sequential: 3-4              [2, 160, 224, 224]        461,440\n",
       "│    └─WiderBlock: 2-4                   [2, 160, 224, 224]        --\n",
       "│    │    └─Sequential: 3-5              [2, 160, 224, 224]        461,440\n",
       "├─Sequential: 1-3                        [2, 320, 112, 112]        --\n",
       "│    └─WiderBlock: 2-5                   [2, 320, 112, 112]        --\n",
       "│    │    └─Sequential: 3-6              [2, 320, 112, 112]        1,383,360\n",
       "│    │    └─Conv2d: 3-7                  [2, 320, 112, 112]        51,200\n",
       "│    └─WiderBlock: 2-6                   [2, 320, 112, 112]        --\n",
       "│    │    └─Sequential: 3-8              [2, 320, 112, 112]        1,844,480\n",
       "│    └─WiderBlock: 2-7                   [2, 320, 112, 112]        --\n",
       "│    │    └─Sequential: 3-9              [2, 320, 112, 112]        1,844,480\n",
       "│    └─WiderBlock: 2-8                   [2, 320, 112, 112]        --\n",
       "│    │    └─Sequential: 3-10             [2, 320, 112, 112]        1,844,480\n",
       "├─Sequential: 1-4                        [2, 640, 56, 56]          --\n",
       "│    └─WiderBlock: 2-9                   [2, 640, 56, 56]          --\n",
       "│    │    └─Sequential: 3-11             [2, 640, 56, 56]          5,531,520\n",
       "│    │    └─Conv2d: 3-12                 [2, 640, 56, 56]          204,800\n",
       "│    └─WiderBlock: 2-10                  [2, 640, 56, 56]          --\n",
       "│    │    └─Sequential: 3-13             [2, 640, 56, 56]          7,375,360\n",
       "│    └─WiderBlock: 2-11                  [2, 640, 56, 56]          --\n",
       "│    │    └─Sequential: 3-14             [2, 640, 56, 56]          7,375,360\n",
       "│    └─WiderBlock: 2-12                  [2, 640, 56, 56]          --\n",
       "│    │    └─Sequential: 3-15             [2, 640, 56, 56]          7,375,360\n",
       "├─BatchNorm2d: 1-5                       [2, 640, 56, 56]          1,280\n",
       "├─ReLU: 1-6                              [2, 640, 56, 56]          --\n",
       "├─AdaptiveAvgPool2d: 1-7                 [2, 640, 1, 1]            --\n",
       "├─Linear: 1-8                            [2, 10]                   6,410\n",
       "==========================================================================================\n",
       "Total params: 36,479,194\n",
       "Trainable params: 36,479,194\n",
       "Non-trainable params: 0\n",
       "Total mult-adds (Units.GIGABYTES): 513.85\n",
       "==========================================================================================\n",
       "Input size (MB): 1.20\n",
       "Forward/backward pass size (MB): 3847.09\n",
       "Params size (MB): 145.92\n",
       "Estimated Total Size (MB): 3994.22\n",
       "=========================================================================================="
      ]
     },
     "execution_count": 5,
     "metadata": {},
     "output_type": "execute_result"
    }
   ],
   "source": [
    "model = WRN(depth=28, k=10, num_classes=10)\n",
    "\n",
    "from torchinfo import summary\n",
    "summary(model, (2,3, 224, 224), device=\"cpu\")"
   ]
  },
  {
   "cell_type": "code",
   "execution_count": 7,
   "id": "8d1032c1-6c93-4646-9282-00c591cb2c7f",
   "metadata": {},
   "outputs": [
    {
     "name": "stdout",
     "output_type": "stream",
     "text": [
      "torch.Size([2, 10])\n"
     ]
    }
   ],
   "source": [
    "x = torch.randn(2,3,32,32)\n",
    "print(model(x).shape)"
   ]
  }
 ],
 "metadata": {
  "kernelspec": {
   "display_name": "Python 3 (ipykernel)",
   "language": "python",
   "name": "python3"
  },
  "language_info": {
   "codemirror_mode": {
    "name": "ipython",
    "version": 3
   },
   "file_extension": ".py",
   "mimetype": "text/x-python",
   "name": "python",
   "nbconvert_exporter": "python",
   "pygments_lexer": "ipython3",
   "version": "3.12.7"
  }
 },
 "nbformat": 4,
 "nbformat_minor": 5
}
